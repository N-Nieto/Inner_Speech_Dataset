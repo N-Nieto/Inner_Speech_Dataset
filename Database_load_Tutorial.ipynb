{
  "cells": [
    {
      "cell_type": "markdown",
      "metadata": {
        "id": "n7U7t8vLzdmQ"
      },
      "source": [
        "<a   href=\"https://colab.research.google.com/github//N-Nieto/Inner_Speech_Dataset/blob/master/Database_load_Tutorial.ipynb\" target=\"_parent\"><img src=\"https://colab.research.google.com/assets/colab-badge.svg\" alt=\"Open In Colab\"/></a>"
      ]
    },
    {
      "cell_type": "markdown",
      "metadata": {
        "id": "paw7a25v4CCd"
      },
      "source": [
        "# Tutorial for load the Inner speech database."
      ]
    },
    {
      "cell_type": "markdown",
      "metadata": {
        "id": "ZeJv3XgwUC4R"
      },
      "source": [
        "## Set up - Download and import required libraries"
      ]
    },
    {
      "cell_type": "code",
      "execution_count": 1,
      "metadata": {
        "cellView": "form",
        "colab": {
          "base_uri": "https://localhost:8080/"
        },
        "id": "en9HsrNVTtXg",
        "outputId": "9b20e1be-3a8e-4de4-8a1c-c385a97f9a8a"
      },
      "outputs": [
        {
          "name": "stdout",
          "output_type": "stream",
          "text": [
            "\u001b[K     |████████████████████████████████| 7.4 MB 21.3 MB/s \n",
            "\u001b[?25h"
          ]
        }
      ],
      "source": [
        "#@title Install dependencies \n",
        "!git clone https://github.com/N-Nieto/Inner_Speech_Dataset -q\n",
        "!pip3 install mne -q"
      ]
    },
    {
      "cell_type": "code",
      "execution_count": 2,
      "metadata": {
        "cellView": "form",
        "id": "GySLvxiqUJzX"
      },
      "outputs": [],
      "source": [
        "#@title Imports \n",
        "import mne \n",
        "import warnings\n",
        "import numpy as np\n",
        "\n",
        "from google.colab import drive\n",
        "\n",
        "from Inner_Speech_Dataset.Python_Processing.Data_extractions import  extract_data_from_subject\n",
        "from Inner_Speech_Dataset.Python_Processing.Data_processing import  select_time_window, transform_for_classificator\n",
        "\n",
        "np.random.seed(23)\n",
        "\n",
        "mne.set_log_level(verbose='warning') #to avoid info at terminal\n",
        "warnings.filterwarnings(action = \"ignore\", category = DeprecationWarning ) \n",
        "warnings.filterwarnings(action = \"ignore\", category = FutureWarning ) "
      ]
    },
    {
      "cell_type": "markdown",
      "metadata": {
        "id": "gcXsT133Chus"
      },
      "source": [
        "## Data Loading."
      ]
    },
    {
      "cell_type": "code",
      "execution_count": 5,
      "metadata": {
        "colab": {
          "base_uri": "https://localhost:8080/"
        },
        "id": "C8k9XNR-TwXp",
        "outputId": "3dc3fc7f-018f-429d-fdeb-ebc4e1dd012b"
      },
      "outputs": [
        {
          "name": "stdout",
          "output_type": "stream",
          "text": [
            "Mounted at /gdrive\n"
          ]
        }
      ],
      "source": [
        "# Mount drive with data. You have to download and store the dataset in your own Drive\n",
        "drive.mount('/gdrive', force_remount=True)"
      ]
    },
    {
      "cell_type": "code",
      "execution_count": 6,
      "metadata": {
        "id": "m6f5cvPq_aYr"
      },
      "outputs": [],
      "source": [
        "### Hyperparameters\n",
        "\n",
        "# The root dir has to point to the folder that contains the database\n",
        "root_dir = \"/gdrive/My Drive/...\"\n",
        "\n",
        "# Data Type\n",
        "datatype = \"EEG\"\n",
        "\n",
        "# Sampling rate\n",
        "fs = 256\n",
        "\n",
        "# Select the useful par of each trial. Time in seconds\n",
        "t_start = 1.5\n",
        "t_end = 3.5\n",
        "\n",
        "# Subject number\n",
        "N_S = 1   #[1 to 10]\n"
      ]
    },
    {
      "cell_type": "code",
      "execution_count": 7,
      "metadata": {
        "cellView": "form",
        "id": "7fQzTOUK1lTn"
      },
      "outputs": [],
      "source": [
        "#@title Data extraction and processing\n",
        "\n",
        "# Load all trials for a single subject\n",
        "X, Y = extract_data_from_subject(root_dir, N_S, datatype)\n",
        "\n",
        "# Cut useful time. i.e action interval\n",
        "X = select_time_window(X = X, t_start = t_start, t_end = t_end, fs = fs)"
      ]
    },
    {
      "cell_type": "code",
      "execution_count": null,
      "metadata": {
        "id": "9ohrUvI8pip3"
      },
      "outputs": [],
      "source": [
        "print(\"Data shape: [trials x channels x samples]\")\n",
        "print(X.shape) # Trials, channels, samples\n",
        "\n",
        "print(\"Labels shape\")\n",
        "print(Y.shape) # Time stamp, class , condition, session"
      ]
    },
    {
      "cell_type": "markdown",
      "metadata": {
        "id": "UH40Uwz-09d2"
      },
      "source": [
        "## Create the different groups for a classifier. A group is created with one condition and one class. "
      ]
    },
    {
      "cell_type": "code",
      "execution_count": 9,
      "metadata": {
        "id": "RwovCAQCrEme"
      },
      "outputs": [],
      "source": [
        "# Conditions to compared\n",
        "Conditions = [[\"Inner\"],[\"Inner\"]]\n",
        "# The class for the above condition\n",
        "Classes    = [  [\"Up\"] ,[\"Down\"] ]"
      ]
    },
    {
      "cell_type": "code",
      "execution_count": 10,
      "metadata": {
        "id": "RQgiafjjqshv"
      },
      "outputs": [],
      "source": [
        "# Transform data and keep only the trials of interes\n",
        "X , Y =  transform_for_classificator(X, Y, Classes, Conditions)"
      ]
    },
    {
      "cell_type": "code",
      "execution_count": 11,
      "metadata": {
        "colab": {
          "base_uri": "https://localhost:8080/"
        },
        "id": "ooabEqcspZ-X",
        "outputId": "2ac5dc64-43cf-4635-9cf8-f1708a6f86af"
      },
      "outputs": [
        {
          "name": "stdout",
          "output_type": "stream",
          "text": [
            "Final data shape\n",
            "(100, 128, 508)\n",
            "Final labels shape\n",
            "(100,)\n"
          ]
        }
      ],
      "source": [
        "print(\"Final data shape\")\n",
        "print(X.shape)\n",
        "\n",
        "print(\"Final labels shape\")\n",
        "print(Y.shape) "
      ]
    }
  ],
  "metadata": {
    "colab": {
      "collapsed_sections": [],
      "name": "Database_load_Tutorial.ipynb",
      "provenance": []
    },
    "kernelspec": {
      "display_name": "Python 3",
      "name": "python3"
    },
    "language_info": {
      "name": "python"
    }
  },
  "nbformat": 4,
  "nbformat_minor": 0
}
